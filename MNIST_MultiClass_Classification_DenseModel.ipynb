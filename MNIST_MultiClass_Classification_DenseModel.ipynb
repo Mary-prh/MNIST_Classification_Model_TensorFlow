{
  "nbformat": 4,
  "nbformat_minor": 0,
  "metadata": {
    "colab": {
      "name": "MNIST_MultiClass_Classification_DenseModel.ipynb",
      "provenance": [],
      "collapsed_sections": [],
      "toc_visible": true,
      "authorship_tag": "ABX9TyOkGJ3bKyWCk5FqBDx7haI9",
      "include_colab_link": true
    },
    "kernelspec": {
      "name": "python3",
      "display_name": "Python 3"
    },
    "language_info": {
      "name": "python"
    },
    "accelerator": "GPU",
    "gpuClass": "standard"
  },
  "cells": [
    {
      "cell_type": "markdown",
      "metadata": {
        "id": "view-in-github",
        "colab_type": "text"
      },
      "source": [
        "<a href=\"https://colab.research.google.com/github/Mary-prh/MNIST_Dense_Model_TensorFlow/blob/main/MNIST_MultiClass_Classification_DenseModel.ipynb\" target=\"_parent\"><img src=\"https://colab.research.google.com/assets/colab-badge.svg\" alt=\"Open In Colab\"/></a>"
      ]
    },
    {
      "cell_type": "code",
      "source": [
        "!nvidia-smi -L"
      ],
      "metadata": {
        "id": "gXEKUdWl_cy5",
        "colab": {
          "base_uri": "https://localhost:8080/"
        },
        "outputId": "44673ed8-cf6c-48e2-ad6e-454d22abbd9a"
      },
      "execution_count": 2,
      "outputs": [
        {
          "output_type": "stream",
          "name": "stdout",
          "text": [
            "GPU 0: Tesla T4 (UUID: GPU-10fe6cc0-c089-a522-dbed-22361f62bbf9)\n"
          ]
        }
      ]
    },
    {
      "cell_type": "code",
      "execution_count": 3,
      "metadata": {
        "id": "HTqiR8jrrawl"
      },
      "outputs": [],
      "source": [
        "import tensorflow as tf\n",
        "import numpy as np"
      ]
    },
    {
      "cell_type": "code",
      "source": [
        "print(tf.__version__)"
      ],
      "metadata": {
        "colab": {
          "base_uri": "https://localhost:8080/"
        },
        "id": "ZRb2r3X-_WQ9",
        "outputId": "765138fb-13c9-423e-e772-f5a44499a525"
      },
      "execution_count": 4,
      "outputs": [
        {
          "output_type": "stream",
          "name": "stdout",
          "text": [
            "2.8.2\n"
          ]
        }
      ]
    },
    {
      "cell_type": "markdown",
      "source": [
        "# **Load Data**"
      ],
      "metadata": {
        "id": "gjVi4OHwM1_a"
      }
    },
    {
      "cell_type": "code",
      "source": [
        "from tensorflow.keras.datasets import fashion_mnist"
      ],
      "metadata": {
        "id": "KRLL4JyI_jfc"
      },
      "execution_count": 5,
      "outputs": []
    },
    {
      "cell_type": "code",
      "source": [
        "(x_train, y_train), (x_test, y_test) = fashion_mnist.load_data()"
      ],
      "metadata": {
        "colab": {
          "base_uri": "https://localhost:8080/"
        },
        "id": "G8sXuiXQMBQi",
        "outputId": "4a9aafc9-fcf4-4ab3-81ac-9b9ef828aa6e"
      },
      "execution_count": 6,
      "outputs": [
        {
          "output_type": "stream",
          "name": "stdout",
          "text": [
            "Downloading data from https://storage.googleapis.com/tensorflow/tf-keras-datasets/train-labels-idx1-ubyte.gz\n",
            "32768/29515 [=================================] - 0s 0us/step\n",
            "40960/29515 [=========================================] - 0s 0us/step\n",
            "Downloading data from https://storage.googleapis.com/tensorflow/tf-keras-datasets/train-images-idx3-ubyte.gz\n",
            "26427392/26421880 [==============================] - 0s 0us/step\n",
            "26435584/26421880 [==============================] - 0s 0us/step\n",
            "Downloading data from https://storage.googleapis.com/tensorflow/tf-keras-datasets/t10k-labels-idx1-ubyte.gz\n",
            "16384/5148 [===============================================================================================] - 0s 0us/step\n",
            "Downloading data from https://storage.googleapis.com/tensorflow/tf-keras-datasets/t10k-images-idx3-ubyte.gz\n",
            "4423680/4422102 [==============================] - 0s 0us/step\n",
            "4431872/4422102 [==============================] - 0s 0us/step\n"
          ]
        }
      ]
    },
    {
      "cell_type": "markdown",
      "source": [
        "# **Explore Data**"
      ],
      "metadata": {
        "id": "3AtYWuoxM8FS"
      }
    },
    {
      "cell_type": "code",
      "source": [
        "x_train.shape , y_train.shape , len(x_train)"
      ],
      "metadata": {
        "colab": {
          "base_uri": "https://localhost:8080/"
        },
        "id": "d7RYAWNYYVGN",
        "outputId": "b957545e-eee6-4309-de63-f942d2e6b178"
      },
      "execution_count": 7,
      "outputs": [
        {
          "output_type": "execute_result",
          "data": {
            "text/plain": [
              "((60000, 28, 28), (60000,), 60000)"
            ]
          },
          "metadata": {},
          "execution_count": 7
        }
      ]
    },
    {
      "cell_type": "code",
      "source": [
        "x_test.shape , y_test.shape , len(x_test)"
      ],
      "metadata": {
        "colab": {
          "base_uri": "https://localhost:8080/"
        },
        "outputId": "19531008-41cf-40b4-f891-7a9529d4452c",
        "id": "QiAPI2W1dQRv"
      },
      "execution_count": 8,
      "outputs": [
        {
          "output_type": "execute_result",
          "data": {
            "text/plain": [
              "((10000, 28, 28), (10000,), 10000)"
            ]
          },
          "metadata": {},
          "execution_count": 8
        }
      ]
    },
    {
      "cell_type": "code",
      "source": [
        "class_names = ['T-shirt/top', 'Trouser', 'Pullover', 'Dress', 'Coat', \n",
        "               'Sandal', 'Shirt', 'Sneaker', 'Bag', 'Ankle boot']\n",
        "\n",
        "# How many classes are there (this'll be our output shape)?\n",
        "len(class_names)"
      ],
      "metadata": {
        "colab": {
          "base_uri": "https://localhost:8080/"
        },
        "id": "_taIeGgdMdEw",
        "outputId": "681917ee-afb6-4da3-a69c-093128def12c"
      },
      "execution_count": 9,
      "outputs": [
        {
          "output_type": "execute_result",
          "data": {
            "text/plain": [
              "10"
            ]
          },
          "metadata": {},
          "execution_count": 9
        }
      ]
    },
    {
      "cell_type": "code",
      "source": [
        "def random_visualization(data, label):\n",
        "  import random\n",
        "  import matplotlib.pyplot as plt\n",
        "  random_index = random.choice(range(len(data)))\n",
        "  plt.imshow(data[random_index])\n",
        "  plt.title(class_names[label[random_index]])"
      ],
      "metadata": {
        "id": "n-gmorrtXXmf"
      },
      "execution_count": 10,
      "outputs": []
    },
    {
      "cell_type": "code",
      "source": [
        "random_visualization(x_test, y_test) "
      ],
      "metadata": {
        "colab": {
          "base_uri": "https://localhost:8080/",
          "height": 281
        },
        "id": "YhSXzOpYciGn",
        "outputId": "a2a58eb7-84b2-4ca1-ecd3-1daa3094853c"
      },
      "execution_count": 11,
      "outputs": [
        {
          "output_type": "display_data",
          "data": {
            "text/plain": [
              "<Figure size 432x288 with 1 Axes>"
            ],
            "image/png": "[encoded data removed]"
          },
          "metadata": {
            "needs_background": "light"
          }
        }
      ]
    },
    {
      "cell_type": "code",
      "source": [
        "random_visualization(x_train, y_train)"
      ],
      "metadata": {
        "colab": {
          "base_uri": "https://localhost:8080/",
          "height": 281
        },
        "id": "uZZRBkLuWkxs",
        "outputId": "10aa8ab4-d70e-4be1-e0d7-cacd38e6782e"
      },
      "execution_count": 12,
      "outputs": [
        {
          "output_type": "display_data",
          "data": {
            "text/plain": [
              "<Figure size 432x288 with 1 Axes>"
            ],
            "image/png": "[encoded data removed]"
          },
          "metadata": {
            "needs_background": "light"
          }
        }
      ]
    },
    {
      "cell_type": "markdown",
      "source": [
        "# **Preprocessing**"
      ],
      "metadata": {
        "id": "ajCOvcI4rXxm"
      }
    },
    {
      "cell_type": "markdown",
      "source": [
        "## **Option 1: Normalization only**"
      ],
      "metadata": {
        "id": "7ZUmxWCBrqeN"
      }
    },
    {
      "cell_type": "code",
      "source": [
        "x_train.min() , x_train.max()"
      ],
      "metadata": {
        "colab": {
          "base_uri": "https://localhost:8080/"
        },
        "id": "2zO42KRfdo3l",
        "outputId": "c73669ce-72ed-4617-9f0d-278e208f4058"
      },
      "execution_count": 13,
      "outputs": [
        {
          "output_type": "execute_result",
          "data": {
            "text/plain": [
              "(0, 255)"
            ]
          },
          "metadata": {},
          "execution_count": 13
        }
      ]
    },
    {
      "cell_type": "code",
      "source": [
        "# X_train = x_train.astype('float32') / 255\n",
        "# X_test =  x_test.astype('float32') / 255"
      ],
      "metadata": {
        "id": "hPY8tqV8dkpO"
      },
      "execution_count": 14,
      "outputs": []
    },
    {
      "cell_type": "markdown",
      "source": [
        "## **Option 2: Data Augmentation Including Normalization**"
      ],
      "metadata": {
        "id": "NsL3Sf3gBXjQ"
      }
    },
    {
      "cell_type": "code",
      "source": [
        "from tensorflow.keras.preprocessing.image import ImageDataGenerator"
      ],
      "metadata": {
        "id": "h-GkOvIvDLBH"
      },
      "execution_count": 15,
      "outputs": []
    },
    {
      "cell_type": "markdown",
      "source": [
        "***ImageDataGenerator takes in tensors with 4 dimentiones. So, we add another dimention to the training and test sets***"
      ],
      "metadata": {
        "id": "wom9K68gpqi1"
      }
    },
    {
      "cell_type": "code",
      "source": [
        "X_train = tf.expand_dims(x_train, axis= -1)\n",
        "X_test = tf.expand_dims(x_test, axis= -1)\n",
        "X_train.shape , X_test.shape , len(X_train)"
      ],
      "metadata": {
        "colab": {
          "base_uri": "https://localhost:8080/"
        },
        "id": "h3n4nfuKJTn5",
        "outputId": "1c6810f1-b62a-4f39-ac15-5e76f3e89e2c"
      },
      "execution_count": 16,
      "outputs": [
        {
          "output_type": "execute_result",
          "data": {
            "text/plain": [
              "(TensorShape([60000, 28, 28, 1]), TensorShape([10000, 28, 28, 1]), 60000)"
            ]
          },
          "metadata": {},
          "execution_count": 16
        }
      ]
    },
    {
      "cell_type": "code",
      "source": [
        "datagen = ImageDataGenerator(rescale= 1./255 , shear_range= 0.2, \n",
        "                             zoom_range = 0.2, \n",
        "                             horizontal_flip = True, dtype = 'float32')"
      ],
      "metadata": {
        "id": "02yl51rqDVuW"
      },
      "execution_count": 17,
      "outputs": []
    },
    {
      "cell_type": "code",
      "source": [
        "datagen.fit(X_train)"
      ],
      "metadata": {
        "id": "m7p1qYLjBO0N"
      },
      "execution_count": 18,
      "outputs": []
    },
    {
      "cell_type": "code",
      "source": [
        "train_data = datagen.flow(x= X_train , y= y_train , batch_size= 32, seed = 42)"
      ],
      "metadata": {
        "id": "wzXEY5AHJEkq"
      },
      "execution_count": 19,
      "outputs": []
    },
    {
      "cell_type": "code",
      "source": [
        "validation_data = datagen.flow(x= X_test , y= y_test , batch_size= 8, seed=42)"
      ],
      "metadata": {
        "id": "OX1CGtA1KjbW"
      },
      "execution_count": 20,
      "outputs": []
    },
    {
      "cell_type": "code",
      "source": [
        "train_data "
      ],
      "metadata": {
        "colab": {
          "base_uri": "https://localhost:8080/"
        },
        "id": "kL9TZMBwL9xP",
        "outputId": "e5a8bf8c-8564-4dfb-ee6d-710650afe709"
      },
      "execution_count": 21,
      "outputs": [
        {
          "output_type": "execute_result",
          "data": {
            "text/plain": [
              "<keras.preprocessing.image.NumpyArrayIterator at 0x7f110637e350>"
            ]
          },
          "metadata": {},
          "execution_count": 21
        }
      ]
    },
    {
      "cell_type": "markdown",
      "source": [
        "# **Create Model**"
      ],
      "metadata": {
        "id": "xA1QAdeELjKI"
      }
    },
    {
      "cell_type": "markdown",
      "source": [
        "## **Model 1**"
      ],
      "metadata": {
        "id": "ejxq4gAJLpPc"
      }
    },
    {
      "cell_type": "markdown",
      "source": [
        "### **Callbacks**"
      ],
      "metadata": {
        "id": "ugapliKxRHbH"
      }
    },
    {
      "cell_type": "code",
      "source": [
        "early_stopping = tf.keras.callbacks.EarlyStopping(monitor='val_loss', patience= 5)"
      ],
      "metadata": {
        "id": "pRAhSbdcRL2K"
      },
      "execution_count": 22,
      "outputs": []
    },
    {
      "cell_type": "code",
      "source": [
        "checkpoint_path = 'model_checkpoints/cp_1.ckpt'\n",
        "\n",
        "model_checkpoint = tf.keras.callbacks.ModelCheckpoint(filepath= checkpoint_path, \n",
        "                                                      monitor= 'val_loss', save_weights_only= True,\n",
        "                                                      save_best_only= True)"
      ],
      "metadata": {
        "id": "Wg5oAjkfRqdH"
      },
      "execution_count": 23,
      "outputs": []
    },
    {
      "cell_type": "code",
      "source": [
        "reduce_lr = tf.keras.callbacks.ReduceLROnPlateau(monitor='val_loss', factor = 0.2, \n",
        "                                                 patience = 5, min_lr = 1e-7)"
      ],
      "metadata": {
        "id": "qtbsy2X9UoW7"
      },
      "execution_count": 24,
      "outputs": []
    },
    {
      "cell_type": "code",
      "source": [
        "# traverse a set of learning rate values starting from 1e-4, increasing by 10**(epoch/20) every epoch\n",
        "lr_scheduler = tf.keras.callbacks.LearningRateScheduler(lambda epoch: 1e-4 * 10**(epoch/20)) "
      ],
      "metadata": {
        "id": "WYrP2mn6WdWt"
      },
      "execution_count": 25,
      "outputs": []
    },
    {
      "cell_type": "markdown",
      "source": [
        "### **create, compile, fit**"
      ],
      "metadata": {
        "id": "kOElCTolRWwW"
      }
    },
    {
      "cell_type": "markdown",
      "source": [
        "***The `Flatten` layer is required for NON-CNN models***"
      ],
      "metadata": {
        "id": "0D-X_y8Gs5ej"
      }
    },
    {
      "cell_type": "code",
      "source": [
        "tf.random.set_seed(42)\n",
        "\n",
        "model_1 = tf.keras.models.Sequential([\n",
        "    tf.keras.layers.Flatten(),\n",
        "    tf.keras.layers.Dense(100, activation= 'relu'),\n",
        "    tf.keras.layers.Dense(70, activation= 'relu'),\n",
        "    # tf.keras.layers.Dropout(0.3),\n",
        "    tf.keras.layers.Dense(50, activation= 'relu'),\n",
        "    tf.keras.layers.Dense(len(class_names), activation= 'softmax')\n",
        "])"
      ],
      "metadata": {
        "id": "fc0h-iXlLDZk"
      },
      "execution_count": 26,
      "outputs": []
    },
    {
      "cell_type": "code",
      "source": [
        "model_1.compile(tf.keras.optimizers.Adam(learning_rate= 0.001), \n",
        "                loss= tf.keras.losses.SparseCategoricalCrossentropy(), \n",
        "                metrics = ['accuracy'])"
      ],
      "metadata": {
        "id": "xed7YdzcNWME"
      },
      "execution_count": 27,
      "outputs": []
    },
    {
      "cell_type": "code",
      "source": [
        "history_1 = model_1.fit(train_data, epochs= 100, \n",
        "            validation_data = validation_data, batch_size = 32, \n",
        "            steps_per_epoch = len(X_train) / 32, \n",
        "            callbacks = [early_stopping , model_checkpoint , reduce_lr])"
      ],
      "metadata": {
        "colab": {
          "base_uri": "https://localhost:8080/"
        },
        "id": "CV0JD-MtN1Hy",
        "outputId": "456add11-46ef-4430-d66f-cbab2a2299c0"
      },
      "execution_count": 28,
      "outputs": [
        {
          "output_type": "stream",
          "name": "stdout",
          "text": [
            "Epoch 1/100\n",
            "1875/1875 [==============================] - 23s 12ms/step - loss: 0.6833 - accuracy: 0.7501 - val_loss: 0.5728 - val_accuracy: 0.7916 - lr: 0.0010\n",
            "Epoch 2/100\n",
            "1875/1875 [==============================] - 23s 12ms/step - loss: 0.5300 - accuracy: 0.8020 - val_loss: 0.5351 - val_accuracy: 0.8011 - lr: 0.0010\n",
            "Epoch 3/100\n",
            "1875/1875 [==============================] - 22s 11ms/step - loss: 0.4896 - accuracy: 0.8181 - val_loss: 0.4922 - val_accuracy: 0.8165 - lr: 0.0010\n",
            "Epoch 4/100\n",
            "1875/1875 [==============================] - 21s 11ms/step - loss: 0.4705 - accuracy: 0.8236 - val_loss: 0.5014 - val_accuracy: 0.8108 - lr: 0.0010\n",
            "Epoch 5/100\n",
            "1875/1875 [==============================] - 21s 11ms/step - loss: 0.4502 - accuracy: 0.8309 - val_loss: 0.4693 - val_accuracy: 0.8262 - lr: 0.0010\n",
            "Epoch 6/100\n",
            "1875/1875 [==============================] - 21s 11ms/step - loss: 0.4407 - accuracy: 0.8343 - val_loss: 0.4701 - val_accuracy: 0.8193 - lr: 0.0010\n",
            "Epoch 7/100\n",
            "1875/1875 [==============================] - 21s 11ms/step - loss: 0.4287 - accuracy: 0.8384 - val_loss: 0.4588 - val_accuracy: 0.8256 - lr: 0.0010\n",
            "Epoch 8/100\n",
            "1875/1875 [==============================] - 21s 11ms/step - loss: 0.4184 - accuracy: 0.8429 - val_loss: 0.4556 - val_accuracy: 0.8238 - lr: 0.0010\n",
            "Epoch 9/100\n",
            "1875/1875 [==============================] - 20s 11ms/step - loss: 0.4133 - accuracy: 0.8428 - val_loss: 0.4359 - val_accuracy: 0.8402 - lr: 0.0010\n",
            "Epoch 10/100\n",
            "1875/1875 [==============================] - 20s 11ms/step - loss: 0.4054 - accuracy: 0.8466 - val_loss: 0.4413 - val_accuracy: 0.8363 - lr: 0.0010\n",
            "Epoch 11/100\n",
            "1875/1875 [==============================] - 21s 11ms/step - loss: 0.4058 - accuracy: 0.8470 - val_loss: 0.4380 - val_accuracy: 0.8367 - lr: 0.0010\n",
            "Epoch 12/100\n",
            "1875/1875 [==============================] - 21s 11ms/step - loss: 0.3938 - accuracy: 0.8510 - val_loss: 0.4374 - val_accuracy: 0.8368 - lr: 0.0010\n",
            "Epoch 13/100\n",
            "1875/1875 [==============================] - 22s 12ms/step - loss: 0.3898 - accuracy: 0.8514 - val_loss: 0.4284 - val_accuracy: 0.8387 - lr: 0.0010\n",
            "Epoch 14/100\n",
            "1875/1875 [==============================] - 22s 12ms/step - loss: 0.3847 - accuracy: 0.8523 - val_loss: 0.4362 - val_accuracy: 0.8389 - lr: 0.0010\n",
            "Epoch 15/100\n",
            "1875/1875 [==============================] - 22s 12ms/step - loss: 0.3834 - accuracy: 0.8548 - val_loss: 0.4179 - val_accuracy: 0.8448 - lr: 0.0010\n",
            "Epoch 16/100\n",
            "1875/1875 [==============================] - 22s 12ms/step - loss: 0.3798 - accuracy: 0.8560 - val_loss: 0.4191 - val_accuracy: 0.8445 - lr: 0.0010\n",
            "Epoch 17/100\n",
            "1875/1875 [==============================] - 23s 12ms/step - loss: 0.3733 - accuracy: 0.8600 - val_loss: 0.4137 - val_accuracy: 0.8455 - lr: 0.0010\n",
            "Epoch 18/100\n",
            "1875/1875 [==============================] - 22s 12ms/step - loss: 0.3750 - accuracy: 0.8574 - val_loss: 0.4562 - val_accuracy: 0.8337 - lr: 0.0010\n",
            "Epoch 19/100\n",
            "1875/1875 [==============================] - 22s 12ms/step - loss: 0.3715 - accuracy: 0.8589 - val_loss: 0.4117 - val_accuracy: 0.8473 - lr: 0.0010\n",
            "Epoch 20/100\n",
            "1875/1875 [==============================] - 22s 12ms/step - loss: 0.3655 - accuracy: 0.8605 - val_loss: 0.4007 - val_accuracy: 0.8498 - lr: 0.0010\n",
            "Epoch 21/100\n",
            "1875/1875 [==============================] - 22s 12ms/step - loss: 0.3641 - accuracy: 0.8619 - val_loss: 0.4395 - val_accuracy: 0.8368 - lr: 0.0010\n",
            "Epoch 22/100\n",
            "1875/1875 [==============================] - 22s 11ms/step - loss: 0.3636 - accuracy: 0.8614 - val_loss: 0.4063 - val_accuracy: 0.8502 - lr: 0.0010\n",
            "Epoch 23/100\n",
            "1875/1875 [==============================] - 22s 12ms/step - loss: 0.3607 - accuracy: 0.8633 - val_loss: 0.4223 - val_accuracy: 0.8415 - lr: 0.0010\n",
            "Epoch 24/100\n",
            "1875/1875 [==============================] - 22s 12ms/step - loss: 0.3600 - accuracy: 0.8638 - val_loss: 0.3983 - val_accuracy: 0.8505 - lr: 0.0010\n",
            "Epoch 25/100\n",
            "1875/1875 [==============================] - 21s 11ms/step - loss: 0.3577 - accuracy: 0.8650 - val_loss: 0.4086 - val_accuracy: 0.8503 - lr: 0.0010\n",
            "Epoch 26/100\n",
            "1875/1875 [==============================] - 21s 11ms/step - loss: 0.3559 - accuracy: 0.8640 - val_loss: 0.4020 - val_accuracy: 0.8544 - lr: 0.0010\n",
            "Epoch 27/100\n",
            "1875/1875 [==============================] - 22s 12ms/step - loss: 0.3535 - accuracy: 0.8645 - val_loss: 0.4103 - val_accuracy: 0.8471 - lr: 0.0010\n",
            "Epoch 28/100\n",
            "1875/1875 [==============================] - 21s 11ms/step - loss: 0.3492 - accuracy: 0.8660 - val_loss: 0.3963 - val_accuracy: 0.8501 - lr: 0.0010\n",
            "Epoch 29/100\n",
            "1875/1875 [==============================] - 21s 11ms/step - loss: 0.3501 - accuracy: 0.8665 - val_loss: 0.4083 - val_accuracy: 0.8515 - lr: 0.0010\n",
            "Epoch 30/100\n",
            "1875/1875 [==============================] - 21s 11ms/step - loss: 0.3477 - accuracy: 0.8684 - val_loss: 0.3959 - val_accuracy: 0.8539 - lr: 0.0010\n",
            "Epoch 31/100\n",
            "1875/1875 [==============================] - 21s 11ms/step - loss: 0.3488 - accuracy: 0.8682 - val_loss: 0.4010 - val_accuracy: 0.8526 - lr: 0.0010\n",
            "Epoch 32/100\n",
            "1875/1875 [==============================] - 21s 11ms/step - loss: 0.3452 - accuracy: 0.8681 - val_loss: 0.4076 - val_accuracy: 0.8511 - lr: 0.0010\n",
            "Epoch 33/100\n",
            "1875/1875 [==============================] - 21s 11ms/step - loss: 0.3424 - accuracy: 0.8683 - val_loss: 0.3964 - val_accuracy: 0.8527 - lr: 0.0010\n",
            "Epoch 34/100\n",
            "1875/1875 [==============================] - 22s 11ms/step - loss: 0.3430 - accuracy: 0.8686 - val_loss: 0.3979 - val_accuracy: 0.8550 - lr: 0.0010\n",
            "Epoch 35/100\n",
            "1875/1875 [==============================] - 22s 12ms/step - loss: 0.3419 - accuracy: 0.8697 - val_loss: 0.3901 - val_accuracy: 0.8554 - lr: 0.0010\n",
            "Epoch 36/100\n",
            "1875/1875 [==============================] - 21s 11ms/step - loss: 0.3403 - accuracy: 0.8715 - val_loss: 0.4002 - val_accuracy: 0.8540 - lr: 0.0010\n",
            "Epoch 37/100\n",
            "1875/1875 [==============================] - 21s 11ms/step - loss: 0.3413 - accuracy: 0.8696 - val_loss: 0.4034 - val_accuracy: 0.8516 - lr: 0.0010\n",
            "Epoch 38/100\n",
            "1875/1875 [==============================] - 21s 11ms/step - loss: 0.3361 - accuracy: 0.8719 - val_loss: 0.3988 - val_accuracy: 0.8535 - lr: 0.0010\n",
            "Epoch 39/100\n",
            "1875/1875 [==============================] - 21s 11ms/step - loss: 0.3355 - accuracy: 0.8730 - val_loss: 0.3947 - val_accuracy: 0.8526 - lr: 0.0010\n",
            "Epoch 40/100\n",
            "1875/1875 [==============================] - 21s 11ms/step - loss: 0.3362 - accuracy: 0.8719 - val_loss: 0.3812 - val_accuracy: 0.8576 - lr: 0.0010\n",
            "Epoch 41/100\n",
            "1875/1875 [==============================] - 21s 11ms/step - loss: 0.3329 - accuracy: 0.8723 - val_loss: 0.3843 - val_accuracy: 0.8612 - lr: 0.0010\n",
            "Epoch 42/100\n",
            "1875/1875 [==============================] - 21s 11ms/step - loss: 0.3318 - accuracy: 0.8737 - val_loss: 0.4000 - val_accuracy: 0.8574 - lr: 0.0010\n",
            "Epoch 43/100\n",
            "1875/1875 [==============================] - 21s 11ms/step - loss: 0.3319 - accuracy: 0.8742 - val_loss: 0.3857 - val_accuracy: 0.8572 - lr: 0.0010\n",
            "Epoch 44/100\n",
            "1875/1875 [==============================] - 21s 11ms/step - loss: 0.3296 - accuracy: 0.8751 - val_loss: 0.4022 - val_accuracy: 0.8531 - lr: 0.0010\n",
            "Epoch 45/100\n",
            "1875/1875 [==============================] - 22s 11ms/step - loss: 0.3310 - accuracy: 0.8748 - val_loss: 0.4104 - val_accuracy: 0.8468 - lr: 0.0010\n"
          ]
        }
      ]
    },
    {
      "cell_type": "markdown",
      "source": [
        "### **Evaluation**"
      ],
      "metadata": {
        "id": "M66GvqokXjVN"
      }
    },
    {
      "cell_type": "markdown",
      "source": [
        "***To make prediction with the test set, there are some steps of processing to match the test set with the training level. (The data generation level should not be applied to the prediction level. So, we should not use this step as the prediction). The levels include `normalization` and changing the dtype to `float32`.***"
      ],
      "metadata": {
        "id": "bF0ppaa9qkVA"
      }
    },
    {
      "cell_type": "code",
      "source": [
        "evaluation_set = x_test.astype('float32') / 255"
      ],
      "metadata": {
        "id": "Kipb2PUfqWgV"
      },
      "execution_count": 33,
      "outputs": []
    },
    {
      "cell_type": "markdown",
      "source": [
        "*Because we made the input 3D images:*"
      ],
      "metadata": {
        "id": "ZzRAGoZ4uBaa"
      }
    },
    {
      "cell_type": "markdown",
      "source": [
        "*Because we generated batches:*"
      ],
      "metadata": {
        "id": "kILud2B3uHF-"
      }
    },
    {
      "cell_type": "code",
      "source": [
        "# evaluation_set = tf.expand_dims(evaluation_set, axis= 0)"
      ],
      "metadata": {
        "id": "UPhmb7RGtyzR"
      },
      "execution_count": 30,
      "outputs": []
    },
    {
      "cell_type": "code",
      "source": [
        "evaluation_set.shape"
      ],
      "metadata": {
        "id": "DMcsKABDuTKF",
        "colab": {
          "base_uri": "https://localhost:8080/"
        },
        "outputId": "93b3007e-2722-44fa-f836-589984e3ab88"
      },
      "execution_count": 34,
      "outputs": [
        {
          "output_type": "execute_result",
          "data": {
            "text/plain": [
              "(10000, 28, 28)"
            ]
          },
          "metadata": {},
          "execution_count": 34
        }
      ]
    },
    {
      "cell_type": "code",
      "source": [
        "predsProb_1 = model_1.predict(tf.expand_dims(evaluation_set, axis=-1) )"
      ],
      "metadata": {
        "id": "ADNcMNnbXmSi"
      },
      "execution_count": 55,
      "outputs": []
    },
    {
      "cell_type": "code",
      "source": [
        "predsProb_1.shape"
      ],
      "metadata": {
        "colab": {
          "base_uri": "https://localhost:8080/"
        },
        "id": "1Fos1y9OG5Ad",
        "outputId": "ae90326e-4e8c-409b-94f3-73f8d78b24b6"
      },
      "execution_count": 56,
      "outputs": [
        {
          "output_type": "execute_result",
          "data": {
            "text/plain": [
              "(10000, 10)"
            ]
          },
          "metadata": {},
          "execution_count": 56
        }
      ]
    },
    {
      "cell_type": "code",
      "source": [
        "predsProb_1"
      ],
      "metadata": {
        "colab": {
          "base_uri": "https://localhost:8080/"
        },
        "id": "wZFvEYjIHGRZ",
        "outputId": "0bd76a31-352d-42b3-97a2-ee27d1a70b03"
      },
      "execution_count": 57,
      "outputs": [
        {
          "output_type": "execute_result",
          "data": {
            "text/plain": [
              "array([[8.2472138e-07, 1.5526890e-12, 3.1510336e-07, ..., 1.0024065e-02,\n",
              "        9.8694741e-09, 9.8849434e-01],\n",
              "       [1.5676842e-04, 1.3136776e-13, 9.9849093e-01, ..., 3.3583410e-34,\n",
              "        6.3519388e-13, 2.9595965e-30],\n",
              "       [4.8776729e-09, 9.9999988e-01, 9.7742365e-09, ..., 0.0000000e+00,\n",
              "        1.5778551e-07, 7.7066859e-21],\n",
              "       ...,\n",
              "       [1.0249957e-08, 7.9515255e-16, 1.1239858e-10, ..., 1.7909182e-13,\n",
              "        1.0000000e+00, 6.3617137e-19],\n",
              "       [1.2819431e-11, 1.0000000e+00, 2.6393809e-12, ..., 0.0000000e+00,\n",
              "        6.8959118e-12, 2.5126063e-25],\n",
              "       [5.2001599e-08, 7.0678223e-13, 3.6157860e-07, ..., 3.7935276e-03,\n",
              "        1.1193991e-06, 6.0944867e-06]], dtype=float32)"
            ]
          },
          "metadata": {},
          "execution_count": 57
        }
      ]
    },
    {
      "cell_type": "code",
      "source": [
        "preds_1 = tf.argmax(predsProb_1, axis=1)\n",
        "preds_1"
      ],
      "metadata": {
        "colab": {
          "base_uri": "https://localhost:8080/"
        },
        "id": "32FQJA9lHSEW",
        "outputId": "8bd79182-4207-46eb-eb75-603ee3820841"
      },
      "execution_count": 58,
      "outputs": [
        {
          "output_type": "execute_result",
          "data": {
            "text/plain": [
              "<tf.Tensor: shape=(10000,), dtype=int64, numpy=array([9, 2, 1, ..., 8, 1, 5])>"
            ]
          },
          "metadata": {},
          "execution_count": 58
        }
      ]
    },
    {
      "cell_type": "code",
      "source": [
        "import matplotlib.pyplot as plt\n",
        "import random\n",
        "\n",
        "indx = random.choice(range(len(x_test)))\n",
        "plt.imshow(x_test[indx])\n",
        "plt.title(f\"Predicted:{class_names[preds_1[indx]]},  True Label: {class_names[y_test[indx]]}\")\n",
        "plt.axis(False);"
      ],
      "metadata": {
        "colab": {
          "base_uri": "https://localhost:8080/",
          "height": 264
        },
        "id": "6KKGmkgPHmzI",
        "outputId": "a4c15381-fdb0-464c-e488-3946f24cef77"
      },
      "execution_count": 64,
      "outputs": [
        {
          "output_type": "display_data",
          "data": {
            "text/plain": [
              "<Figure size 432x288 with 1 Axes>"
            ],
            "image/png": "[encoded data removed]"
          },
          "metadata": {
            "needs_background": "light"
          }
        }
      ]
    },
    {
      "cell_type": "code",
      "source": [
        "result_1 = model_1.evaluate(validation_data)"
      ],
      "metadata": {
        "colab": {
          "base_uri": "https://localhost:8080/"
        },
        "id": "F1SFRUiCgYgs",
        "outputId": "693ff43f-4204-4ced-e562-3f278aa668d2"
      },
      "execution_count": 65,
      "outputs": [
        {
          "output_type": "stream",
          "name": "stdout",
          "text": [
            "1250/1250 [==============================] - 5s 4ms/step - loss: 0.4114 - accuracy: 0.8460\n"
          ]
        }
      ]
    },
    {
      "cell_type": "markdown",
      "source": [
        "### **Result Visualization**"
      ],
      "metadata": {
        "id": "oZI_tF0KuhLe"
      }
    },
    {
      "cell_type": "code",
      "source": [
        "model_1.summary()"
      ],
      "metadata": {
        "colab": {
          "base_uri": "https://localhost:8080/"
        },
        "id": "FTfvplWSPsvd",
        "outputId": "6209c5de-5096-4517-dce8-6c145d3b561a"
      },
      "execution_count": 40,
      "outputs": [
        {
          "output_type": "stream",
          "name": "stdout",
          "text": [
            "Model: \"sequential\"\n",
            "_________________________________________________________________\n",
            " Layer (type)                Output Shape              Param #   \n",
            "=================================================================\n",
            " flatten (Flatten)           (None, None)              0         \n",
            "                                                                 \n",
            " dense (Dense)               (None, 100)               78500     \n",
            "                                                                 \n",
            " dense_1 (Dense)             (None, 70)                7070      \n",
            "                                                                 \n",
            " dense_2 (Dense)             (None, 50)                3550      \n",
            "                                                                 \n",
            " dense_3 (Dense)             (None, 10)                510       \n",
            "                                                                 \n",
            "=================================================================\n",
            "Total params: 89,630\n",
            "Trainable params: 89,630\n",
            "Non-trainable params: 0\n",
            "_________________________________________________________________\n"
          ]
        }
      ]
    },
    {
      "cell_type": "code",
      "source": [
        "import matplotlib.pyplot as plt\n",
        "import pandas as pd"
      ],
      "metadata": {
        "id": "eYQZ6lD-OEo8"
      },
      "execution_count": 41,
      "outputs": []
    },
    {
      "cell_type": "code",
      "source": [
        "hist_1 = pd.DataFrame(history_1.history)\n",
        "hist_1"
      ],
      "metadata": {
        "id": "z-mTUHPIurUX",
        "colab": {
          "base_uri": "https://localhost:8080/",
          "height": 1000
        },
        "outputId": "e8026c92-48c5-4145-fe2e-27682026e220"
      },
      "execution_count": 42,
      "outputs": [
        {
          "output_type": "execute_result",
          "data": {
            "text/plain": [
              "        loss  accuracy  val_loss  val_accuracy     lr\n",
              "0   0.683295  0.750100  0.572797        0.7916  0.001\n",
              "1   0.529971  0.801967  0.535091        0.8011  0.001\n",
              "2   0.489645  0.818067  0.492246        0.8165  0.001\n",
              "3   0.470458  0.823600  0.501435        0.8108  0.001\n",
              "4   0.450221  0.830867  0.469299        0.8262  0.001\n",
              "5   0.440681  0.834317  0.470119        0.8193  0.001\n",
              "6   0.428679  0.838400  0.458840        0.8256  0.001\n",
              "7   0.418364  0.842850  0.455604        0.8238  0.001\n",
              "8   0.413287  0.842750  0.435931        0.8402  0.001\n",
              "9   0.405427  0.846583  0.441336        0.8363  0.001\n",
              "10  0.405764  0.846983  0.438007        0.8367  0.001\n",
              "11  0.393813  0.851017  0.437440        0.8368  0.001\n",
              "12  0.389820  0.851367  0.428350        0.8387  0.001\n",
              "13  0.384667  0.852317  0.436173        0.8389  0.001\n",
              "14  0.383412  0.854850  0.417904        0.8448  0.001\n",
              "15  0.379787  0.856000  0.419124        0.8445  0.001\n",
              "16  0.373295  0.859950  0.413692        0.8455  0.001\n",
              "17  0.374961  0.857367  0.456207        0.8337  0.001\n",
              "18  0.371499  0.858933  0.411711        0.8473  0.001\n",
              "19  0.365468  0.860500  0.400657        0.8498  0.001\n",
              "20  0.364147  0.861917  0.439467        0.8368  0.001\n",
              "21  0.363615  0.861383  0.406277        0.8502  0.001\n",
              "22  0.360736  0.863267  0.422276        0.8415  0.001\n",
              "23  0.360029  0.863767  0.398283        0.8505  0.001\n",
              "24  0.357665  0.865017  0.408641        0.8503  0.001\n",
              "25  0.355885  0.863967  0.402021        0.8544  0.001\n",
              "26  0.353544  0.864500  0.410330        0.8471  0.001\n",
              "27  0.349161  0.866000  0.396271        0.8501  0.001\n",
              "28  0.350131  0.866517  0.408253        0.8515  0.001\n",
              "29  0.347680  0.868400  0.395873        0.8539  0.001\n",
              "30  0.348753  0.868167  0.400990        0.8526  0.001\n",
              "31  0.345160  0.868150  0.407557        0.8511  0.001\n",
              "32  0.342399  0.868333  0.396386        0.8527  0.001\n",
              "33  0.343048  0.868583  0.397853        0.8550  0.001\n",
              "34  0.341919  0.869683  0.390102        0.8554  0.001\n",
              "35  0.340319  0.871533  0.400178        0.8540  0.001\n",
              "36  0.341299  0.869600  0.403411        0.8516  0.001\n",
              "37  0.336076  0.871950  0.398795        0.8535  0.001\n",
              "38  0.335524  0.872983  0.394695        0.8526  0.001\n",
              "39  0.336245  0.871900  0.381228        0.8576  0.001\n",
              "40  0.332851  0.872283  0.384323        0.8612  0.001\n",
              "41  0.331752  0.873683  0.399988        0.8574  0.001\n",
              "42  0.331941  0.874167  0.385663        0.8572  0.001\n",
              "43  0.329596  0.875083  0.402237        0.8531  0.001\n",
              "44  0.330992  0.874850  0.410420        0.8468  0.001"
            ],
            "text/html": [
              "\n",
              "  <div id=\"df-276dd983-8f30-4392-bb4e-34646ead4941\">\n",
              "    <div class=\"colab-df-container\">\n",
              "      <div>\n",
              "<style scoped>\n",
              "    .dataframe tbody tr th:only-of-type {\n",
              "        vertical-align: middle;\n",
              "    }\n",
              "\n",
              "    .dataframe tbody tr th {\n",
              "        vertical-align: top;\n",
              "    }\n",
              "\n",
              "    .dataframe thead th {\n",
              "        text-align: right;\n",
              "    }\n",
              "</style>\n",
              "<table border=\"1\" class=\"dataframe\">\n",
              "  <thead>\n",
              "    <tr style=\"text-align: right;\">\n",
              "      <th></th>\n",
              "      <th>loss</th>\n",
              "      <th>accuracy</th>\n",
              "      <th>val_loss</th>\n",
              "      <th>val_accuracy</th>\n",
              "      <th>lr</th>\n",
              "    </tr>\n",
              "  </thead>\n",
              "  <tbody>\n",
              "    <tr>\n",
              "      <th>0</th>\n",
              "      <td>0.683295</td>\n",
              "      <td>0.750100</td>\n",
              "      <td>0.572797</td>\n",
              "      <td>0.7916</td>\n",
              "      <td>0.001</td>\n",
              "    </tr>\n",
              "    <tr>\n",
              "      <th>1</th>\n",
              "      <td>0.529971</td>\n",
              "      <td>0.801967</td>\n",
              "      <td>0.535091</td>\n",
              "      <td>0.8011</td>\n",
              "      <td>0.001</td>\n",
              "    </tr>\n",
              "    <tr>\n",
              "      <th>2</th>\n",
              "      <td>0.489645</td>\n",
              "      <td>0.818067</td>\n",
              "      <td>0.492246</td>\n",
              "      <td>0.8165</td>\n",
              "      <td>0.001</td>\n",
              "    </tr>\n",
              "    <tr>\n",
              "      <th>3</th>\n",
              "      <td>0.470458</td>\n",
              "      <td>0.823600</td>\n",
              "      <td>0.501435</td>\n",
              "      <td>0.8108</td>\n",
              "      <td>0.001</td>\n",
              "    </tr>\n",
              "    <tr>\n",
              "      <th>4</th>\n",
              "      <td>0.450221</td>\n",
              "      <td>0.830867</td>\n",
              "      <td>0.469299</td>\n",
              "      <td>0.8262</td>\n",
              "      <td>0.001</td>\n",
              "    </tr>\n",
              "    <tr>\n",
              "      <th>5</th>\n",
              "      <td>0.440681</td>\n",
              "      <td>0.834317</td>\n",
              "      <td>0.470119</td>\n",
              "      <td>0.8193</td>\n",
              "      <td>0.001</td>\n",
              "    </tr>\n",
              "    <tr>\n",
              "      <th>6</th>\n",
              "      <td>0.428679</td>\n",
              "      <td>0.838400</td>\n",
              "      <td>0.458840</td>\n",
              "      <td>0.8256</td>\n",
              "      <td>0.001</td>\n",
              "    </tr>\n",
              "    <tr>\n",
              "      <th>7</th>\n",
              "      <td>0.418364</td>\n",
              "      <td>0.842850</td>\n",
              "      <td>0.455604</td>\n",
              "      <td>0.8238</td>\n",
              "      <td>0.001</td>\n",
              "    </tr>\n",
              "    <tr>\n",
              "      <th>8</th>\n",
              "      <td>0.413287</td>\n",
              "      <td>0.842750</td>\n",
              "      <td>0.435931</td>\n",
              "      <td>0.8402</td>\n",
              "      <td>0.001</td>\n",
              "    </tr>\n",
              "    <tr>\n",
              "      <th>9</th>\n",
              "      <td>0.405427</td>\n",
              "      <td>0.846583</td>\n",
              "      <td>0.441336</td>\n",
              "      <td>0.8363</td>\n",
              "      <td>0.001</td>\n",
              "    </tr>\n",
              "    <tr>\n",
              "      <th>10</th>\n",
              "      <td>0.405764</td>\n",
              "      <td>0.846983</td>\n",
              "      <td>0.438007</td>\n",
              "      <td>0.8367</td>\n",
              "      <td>0.001</td>\n",
              "    </tr>\n",
              "    <tr>\n",
              "      <th>11</th>\n",
              "      <td>0.393813</td>\n",
              "      <td>0.851017</td>\n",
              "      <td>0.437440</td>\n",
              "      <td>0.8368</td>\n",
              "      <td>0.001</td>\n",
              "    </tr>\n",
              "    <tr>\n",
              "      <th>12</th>\n",
              "      <td>0.389820</td>\n",
              "      <td>0.851367</td>\n",
              "      <td>0.428350</td>\n",
              "      <td>0.8387</td>\n",
              "      <td>0.001</td>\n",
              "    </tr>\n",
              "    <tr>\n",
              "      <th>13</th>\n",
              "      <td>0.384667</td>\n",
              "      <td>0.852317</td>\n",
              "      <td>0.436173</td>\n",
              "      <td>0.8389</td>\n",
              "      <td>0.001</td>\n",
              "    </tr>\n",
              "    <tr>\n",
              "      <th>14</th>\n",
              "      <td>0.383412</td>\n",
              "      <td>0.854850</td>\n",
              "      <td>0.417904</td>\n",
              "      <td>0.8448</td>\n",
              "      <td>0.001</td>\n",
              "    </tr>\n",
              "    <tr>\n",
              "      <th>15</th>\n",
              "      <td>0.379787</td>\n",
              "      <td>0.856000</td>\n",
              "      <td>0.419124</td>\n",
              "      <td>0.8445</td>\n",
              "      <td>0.001</td>\n",
              "    </tr>\n",
              "    <tr>\n",
              "      <th>16</th>\n",
              "      <td>0.373295</td>\n",
              "      <td>0.859950</td>\n",
              "      <td>0.413692</td>\n",
              "      <td>0.8455</td>\n",
              "      <td>0.001</td>\n",
              "    </tr>\n",
              "    <tr>\n",
              "      <th>17</th>\n",
              "      <td>0.374961</td>\n",
              "      <td>0.857367</td>\n",
              "      <td>0.456207</td>\n",
              "      <td>0.8337</td>\n",
              "      <td>0.001</td>\n",
              "    </tr>\n",
              "    <tr>\n",
              "      <th>18</th>\n",
              "      <td>0.371499</td>\n",
              "      <td>0.858933</td>\n",
              "      <td>0.411711</td>\n",
              "      <td>0.8473</td>\n",
              "      <td>0.001</td>\n",
              "    </tr>\n",
              "    <tr>\n",
              "      <th>19</th>\n",
              "      <td>0.365468</td>\n",
              "      <td>0.860500</td>\n",
              "      <td>0.400657</td>\n",
              "      <td>0.8498</td>\n",
              "      <td>0.001</td>\n",
              "    </tr>\n",
              "    <tr>\n",
              "      <th>20</th>\n",
              "      <td>0.364147</td>\n",
              "      <td>0.861917</td>\n",
              "      <td>0.439467</td>\n",
              "      <td>0.8368</td>\n",
              "      <td>0.001</td>\n",
              "    </tr>\n",
              "    <tr>\n",
              "      <th>21</th>\n",
              "      <td>0.363615</td>\n",
              "      <td>0.861383</td>\n",
              "      <td>0.406277</td>\n",
              "      <td>0.8502</td>\n",
              "      <td>0.001</td>\n",
              "    </tr>\n",
              "    <tr>\n",
              "      <th>22</th>\n",
              "      <td>0.360736</td>\n",
              "      <td>0.863267</td>\n",
              "      <td>0.422276</td>\n",
              "      <td>0.8415</td>\n",
              "      <td>0.001</td>\n",
              "    </tr>\n",
              "    <tr>\n",
              "      <th>23</th>\n",
              "      <td>0.360029</td>\n",
              "      <td>0.863767</td>\n",
              "      <td>0.398283</td>\n",
              "      <td>0.8505</td>\n",
              "      <td>0.001</td>\n",
              "    </tr>\n",
              "    <tr>\n",
              "      <th>24</th>\n",
              "      <td>0.357665</td>\n",
              "      <td>0.865017</td>\n",
              "      <td>0.408641</td>\n",
              "      <td>0.8503</td>\n",
              "      <td>0.001</td>\n",
              "    </tr>\n",
              "    <tr>\n",
              "      <th>25</th>\n",
              "      <td>0.355885</td>\n",
              "      <td>0.863967</td>\n",
              "      <td>0.402021</td>\n",
              "      <td>0.8544</td>\n",
              "      <td>0.001</td>\n",
              "    </tr>\n",
              "    <tr>\n",
              "      <th>26</th>\n",
              "      <td>0.353544</td>\n",
              "      <td>0.864500</td>\n",
              "      <td>0.410330</td>\n",
              "      <td>0.8471</td>\n",
              "      <td>0.001</td>\n",
              "    </tr>\n",
              "    <tr>\n",
              "      <th>27</th>\n",
              "      <td>0.349161</td>\n",
              "      <td>0.866000</td>\n",
              "      <td>0.396271</td>\n",
              "      <td>0.8501</td>\n",
              "      <td>0.001</td>\n",
              "    </tr>\n",
              "    <tr>\n",
              "      <th>28</th>\n",
              "      <td>0.350131</td>\n",
              "      <td>0.866517</td>\n",
              "      <td>0.408253</td>\n",
              "      <td>0.8515</td>\n",
              "      <td>0.001</td>\n",
              "    </tr>\n",
              "    <tr>\n",
              "      <th>29</th>\n",
              "      <td>0.347680</td>\n",
              "      <td>0.868400</td>\n",
              "      <td>0.395873</td>\n",
              "      <td>0.8539</td>\n",
              "      <td>0.001</td>\n",
              "    </tr>\n",
              "    <tr>\n",
              "      <th>30</th>\n",
              "      <td>0.348753</td>\n",
              "      <td>0.868167</td>\n",
              "      <td>0.400990</td>\n",
              "      <td>0.8526</td>\n",
              "      <td>0.001</td>\n",
              "    </tr>\n",
              "    <tr>\n",
              "      <th>31</th>\n",
              "      <td>0.345160</td>\n",
              "      <td>0.868150</td>\n",
              "      <td>0.407557</td>\n",
              "      <td>0.8511</td>\n",
              "      <td>0.001</td>\n",
              "    </tr>\n",
              "    <tr>\n",
              "      <th>32</th>\n",
              "      <td>0.342399</td>\n",
              "      <td>0.868333</td>\n",
              "      <td>0.396386</td>\n",
              "      <td>0.8527</td>\n",
              "      <td>0.001</td>\n",
              "    </tr>\n",
              "    <tr>\n",
              "      <th>33</th>\n",
              "      <td>0.343048</td>\n",
              "      <td>0.868583</td>\n",
              "      <td>0.397853</td>\n",
              "      <td>0.8550</td>\n",
              "      <td>0.001</td>\n",
              "    </tr>\n",
              "    <tr>\n",
              "      <th>34</th>\n",
              "      <td>0.341919</td>\n",
              "      <td>0.869683</td>\n",
              "      <td>0.390102</td>\n",
              "      <td>0.8554</td>\n",
              "      <td>0.001</td>\n",
              "    </tr>\n",
              "    <tr>\n",
              "      <th>35</th>\n",
              "      <td>0.340319</td>\n",
              "      <td>0.871533</td>\n",
              "      <td>0.400178</td>\n",
              "      <td>0.8540</td>\n",
              "      <td>0.001</td>\n",
              "    </tr>\n",
              "    <tr>\n",
              "      <th>36</th>\n",
              "      <td>0.341299</td>\n",
              "      <td>0.869600</td>\n",
              "      <td>0.403411</td>\n",
              "      <td>0.8516</td>\n",
              "      <td>0.001</td>\n",
              "    </tr>\n",
              "    <tr>\n",
              "      <th>37</th>\n",
              "      <td>0.336076</td>\n",
              "      <td>0.871950</td>\n",
              "      <td>0.398795</td>\n",
              "      <td>0.8535</td>\n",
              "      <td>0.001</td>\n",
              "    </tr>\n",
              "    <tr>\n",
              "      <th>38</th>\n",
              "      <td>0.335524</td>\n",
              "      <td>0.872983</td>\n",
              "      <td>0.394695</td>\n",
              "      <td>0.8526</td>\n",
              "      <td>0.001</td>\n",
              "    </tr>\n",
              "    <tr>\n",
              "      <th>39</th>\n",
              "      <td>0.336245</td>\n",
              "      <td>0.871900</td>\n",
              "      <td>0.381228</td>\n",
              "      <td>0.8576</td>\n",
              "      <td>0.001</td>\n",
              "    </tr>\n",
              "    <tr>\n",
              "      <th>40</th>\n",
              "      <td>0.332851</td>\n",
              "      <td>0.872283</td>\n",
              "      <td>0.384323</td>\n",
              "      <td>0.8612</td>\n",
              "      <td>0.001</td>\n",
              "    </tr>\n",
              "    <tr>\n",
              "      <th>41</th>\n",
              "      <td>0.331752</td>\n",
              "      <td>0.873683</td>\n",
              "      <td>0.399988</td>\n",
              "      <td>0.8574</td>\n",
              "      <td>0.001</td>\n",
              "    </tr>\n",
              "    <tr>\n",
              "      <th>42</th>\n",
              "      <td>0.331941</td>\n",
              "      <td>0.874167</td>\n",
              "      <td>0.385663</td>\n",
              "      <td>0.8572</td>\n",
              "      <td>0.001</td>\n",
              "    </tr>\n",
              "    <tr>\n",
              "      <th>43</th>\n",
              "      <td>0.329596</td>\n",
              "      <td>0.875083</td>\n",
              "      <td>0.402237</td>\n",
              "      <td>0.8531</td>\n",
              "      <td>0.001</td>\n",
              "    </tr>\n",
              "    <tr>\n",
              "      <th>44</th>\n",
              "      <td>0.330992</td>\n",
              "      <td>0.874850</td>\n",
              "      <td>0.410420</td>\n",
              "      <td>0.8468</td>\n",
              "      <td>0.001</td>\n",
              "    </tr>\n",
              "  </tbody>\n",
              "</table>\n",
              "</div>\n",
              "      <button class=\"colab-df-convert\" onclick=\"convertToInteractive('df-276dd983-8f30-4392-bb4e-34646ead4941')\"\n",
              "              title=\"Convert this dataframe to an interactive table.\"\n",
              "              style=\"display:none;\">\n",
              "        \n",
              "  <svg xmlns=\"http://www.w3.org/2000/svg\" height=\"24px\"viewBox=\"0 0 24 24\"\n",
              "       width=\"24px\">\n",
              "    <path d=\"M0 0h24v24H0V0z\" fill=\"none\"/>\n",
              "    <path d=\"M18.56 5.44l.94 2.06.94-2.06 2.06-.94-2.06-.94-.94-2.06-.94 2.06-2.06.94zm-11 1L8.5 8.5l.94-2.06 2.06-.94-2.06-.94L8.5 2.5l-.94 2.06-2.06.94zm10 10l.94 2.06.94-2.06 2.06-.94-2.06-.94-.94-2.06-.94 2.06-2.06.94z\"/><path d=\"M17.41 7.96l-1.37-1.37c-.4-.4-.92-.59-1.43-.59-.52 0-1.04.2-1.43.59L10.3 9.45l-7.72 7.72c-.78.78-.78 2.05 0 2.83L4 21.41c.39.39.9.59 1.41.59.51 0 1.02-.2 1.41-.59l7.78-7.78 2.81-2.81c.8-.78.8-2.07 0-2.86zM5.41 20L4 18.59l7.72-7.72 1.47 1.35L5.41 20z\"/>\n",
              "  </svg>\n",
              "      </button>\n",
              "      \n",
              "  <style>\n",
              "    .colab-df-container {\n",
              "      display:flex;\n",
              "      flex-wrap:wrap;\n",
              "      gap: 12px;\n",
              "    }\n",
              "\n",
              "    .colab-df-convert {\n",
              "      background-color: #E8F0FE;\n",
              "      border: none;\n",
              "      border-radius: 50%;\n",
              "      cursor: pointer;\n",
              "      display: none;\n",
              "      fill: #1967D2;\n",
              "      height: 32px;\n",
              "      padding: 0 0 0 0;\n",
              "      width: 32px;\n",
              "    }\n",
              "\n",
              "    .colab-df-convert:hover {\n",
              "      background-color: #E2EBFA;\n",
              "      box-shadow: 0px 1px 2px rgba(60, 64, 67, 0.3), 0px 1px 3px 1px rgba(60, 64, 67, 0.15);\n",
              "      fill: #174EA6;\n",
              "    }\n",
              "\n",
              "    [theme=dark] .colab-df-convert {\n",
              "      background-color: #3B4455;\n",
              "      fill: #D2E3FC;\n",
              "    }\n",
              "\n",
              "    [theme=dark] .colab-df-convert:hover {\n",
              "      background-color: #434B5C;\n",
              "      box-shadow: 0px 1px 3px 1px rgba(0, 0, 0, 0.15);\n",
              "      filter: drop-shadow(0px 1px 2px rgba(0, 0, 0, 0.3));\n",
              "      fill: #FFFFFF;\n",
              "    }\n",
              "  </style>\n",
              "\n",
              "      <script>\n",
              "        const buttonEl =\n",
              "          document.querySelector('#df-276dd983-8f30-4392-bb4e-34646ead4941 button.colab-df-convert');\n",
              "        buttonEl.style.display =\n",
              "          google.colab.kernel.accessAllowed ? 'block' : 'none';\n",
              "\n",
              "        async function convertToInteractive(key) {\n",
              "          const element = document.querySelector('#df-276dd983-8f30-4392-bb4e-34646ead4941');\n",
              "          const dataTable =\n",
              "            await google.colab.kernel.invokeFunction('convertToInteractive',\n",
              "                                                     [key], {});\n",
              "          if (!dataTable) return;\n",
              "\n",
              "          const docLinkHtml = 'Like what you see? Visit the ' +\n",
              "            '<a target=\"_blank\" href=https://colab.research.google.com/notebooks/data_table.ipynb>data table notebook</a>'\n",
              "            + ' to learn more about interactive tables.';\n",
              "          element.innerHTML = '';\n",
              "          dataTable['output_type'] = 'display_data';\n",
              "          await google.colab.output.renderOutput(dataTable, element);\n",
              "          const docLink = document.createElement('div');\n",
              "          docLink.innerHTML = docLinkHtml;\n",
              "          element.appendChild(docLink);\n",
              "        }\n",
              "      </script>\n",
              "    </div>\n",
              "  </div>\n",
              "  "
            ]
          },
          "metadata": {},
          "execution_count": 42
        }
      ]
    },
    {
      "cell_type": "code",
      "source": [
        "ax = plt.subplots(1,2, figsize=(10,5))\n",
        "plt.subplot(1, 2, 1)\n",
        "plt.plot(hist_1[['loss', 'val_loss']])\n",
        "plt.ylabel(\"loss\")\n",
        "plt.xlabel(\"epochs\")\n",
        "plt.legend(['loss', 'val_loss'])\n",
        "plt.grid(True)\n",
        "\n",
        "plt.subplot(1, 2, 2)\n",
        "plt.plot(hist_1[['accuracy', 'val_accuracy']])\n",
        "plt.ylabel(\"accuracy\")\n",
        "plt.xlabel(\"epochs\")\n",
        "plt.grid(True)\n",
        "plt.legend(['accuracy', 'val_accuracy'])\n",
        "\n",
        "plt.show()"
      ],
      "metadata": {
        "id": "coVcy2iGvDeH",
        "colab": {
          "base_uri": "https://localhost:8080/",
          "height": 337
        },
        "outputId": "994d4bb3-8031-4912-9e6c-89be011c15aa"
      },
      "execution_count": 51,
      "outputs": [
        {
          "output_type": "display_data",
          "data": {
            "text/plain": [
              "<Figure size 720x360 with 2 Axes>"
            ],
            "image/png": "[encoded data removed]"
          },
          "metadata": {
            "needs_background": "light"
          }
        }
      ]
    },
    {
      "cell_type": "markdown",
      "source": [
        "### **Load Weights**"
      ],
      "metadata": {
        "id": "0XjCjlmHwLyW"
      }
    },
    {
      "cell_type": "markdown",
      "source": [
        "*The weights matrix is the same shape as the input data, which in our case is 784 (28x28 pixels). And there's a copy of the weights matrix for each neuron in the selected layer (our selected layer has 100 neurons).*\n",
        "\n",
        "*Each value in the weights matrix corresponds to how a particular value in the input data influences the network's decisions.*\n",
        "\n",
        "*These values start out as random numbers (they're set by the `kernel_initializer` parameter when creating a layer, the default is \"`glorot_uniform`\") and are then updated to better representative values of the data (non-random) by the neural network during training.*"
      ],
      "metadata": {
        "id": "x3dYAaQWMkrX"
      }
    },
    {
      "cell_type": "code",
      "source": [
        "weights, biases = model_1.layers[1].get_weights()\n",
        "weights, weights.shape"
      ],
      "metadata": {
        "id": "XZ6wYUgcwOl1",
        "colab": {
          "base_uri": "https://localhost:8080/"
        },
        "outputId": "5de2e779-7f87-4c93-db4a-e2d699c5dbeb"
      },
      "execution_count": 52,
      "outputs": [
        {
          "output_type": "execute_result",
          "data": {
            "text/plain": [
              "(array([[-0.22980057, -0.59555364, -0.15269727, ...,  0.33931386,\n",
              "         -0.12121668, -0.12982517],\n",
              "        [-0.19850089, -0.7033435 ,  0.17561775, ...,  0.48420998,\n",
              "         -0.11378071, -0.16974515],\n",
              "        [-0.09058047, -0.68863255,  0.15852953, ...,  0.51027876,\n",
              "         -0.0381098 , -0.15436241],\n",
              "        ...,\n",
              "        [ 0.03300975, -0.41498697,  0.8951098 , ...,  0.03450249,\n",
              "          0.39504978,  0.259309  ],\n",
              "        [ 0.07688038, -0.2850016 ,  0.4677993 , ...,  0.05554866,\n",
              "         -0.07668812, -0.03311103],\n",
              "        [ 0.24857554, -0.07774154, -0.4559085 , ..., -0.01304947,\n",
              "         -0.4265334 , -0.00641484]], dtype=float32), (784, 100))"
            ]
          },
          "metadata": {},
          "execution_count": 52
        }
      ]
    },
    {
      "cell_type": "markdown",
      "source": [
        "*Every neuron has a bias vector. Each of these is paired with a weight matrix.*\n",
        "\n",
        "*The bias values get initialized as zeroes by default (using the bias_initializer parameter).*\n",
        "\n",
        "*The bias vector dictates how much the patterns within the corresponding weights matrix should influence the next layer.*"
      ],
      "metadata": {
        "id": "Q04QN8cDNMWp"
      }
    },
    {
      "cell_type": "code",
      "source": [
        "biases, biases.shape"
      ],
      "metadata": {
        "id": "AJfWYpaMwXG4",
        "colab": {
          "base_uri": "https://localhost:8080/"
        },
        "outputId": "c4b69afe-78c0-44fe-806c-fdf9b3d73b32"
      },
      "execution_count": 53,
      "outputs": [
        {
          "output_type": "execute_result",
          "data": {
            "text/plain": [
              "(array([ 0.52429956,  0.6044806 , -0.13731046, -0.38998774,  0.2029339 ,\n",
              "         0.01126651, -0.8981315 , -1.0143359 ,  0.15137823, -0.01363268,\n",
              "         0.25976837,  0.8805337 , -0.30215466,  0.40945786, -1.1124817 ,\n",
              "        -0.03515433,  0.52064466,  0.4966915 ,  0.27671486, -0.21198042,\n",
              "        -0.43691966, -0.0462205 , -1.0937105 ,  0.2765916 ,  1.2105479 ,\n",
              "         1.037636  ,  0.2193548 ,  1.3581778 , -0.11455015,  0.04292421,\n",
              "         0.19908354, -0.01609655, -0.05198875, -1.1282214 ,  0.40186206,\n",
              "         0.7981012 ,  0.23474807,  0.26240358, -0.7348106 , -0.9721502 ,\n",
              "        -0.7630324 ,  0.05749689,  0.6327955 ,  0.31712976,  0.30303293,\n",
              "         1.074337  , -0.7032213 ,  0.2593641 ,  0.07771207, -0.03670844,\n",
              "        -0.11066703,  0.17647775,  0.47781917,  0.9008833 ,  0.16567588,\n",
              "        -0.074083  ,  0.74433076,  0.357506  ,  0.23666292,  0.30626357,\n",
              "         0.926815  , -0.01088614,  0.05211897, -1.0034288 ,  0.86894983,\n",
              "         0.16976812, -0.01743165,  0.47985166, -0.631911  ,  0.1396331 ,\n",
              "         0.26275206,  0.16082099,  0.5414214 ,  0.89093494, -0.30305234,\n",
              "        -0.836403  ,  0.40207726,  0.2674046 ,  0.82971865,  0.64277405,\n",
              "         0.53454226,  1.4018122 , -0.94546056,  0.32947212,  0.55089796,\n",
              "         0.6104584 ,  1.1001086 ,  0.22334723, -0.05356464,  0.14332472,\n",
              "        -0.23634042,  0.5440756 ,  0.6862726 , -1.3617703 ,  0.3225261 ,\n",
              "        -0.23571421, -1.1779081 , -0.07099407,  0.27018932, -0.4616762 ],\n",
              "       dtype=float32), (100,))"
            ]
          },
          "metadata": {},
          "execution_count": 53
        }
      ]
    },
    {
      "cell_type": "code",
      "source": [
        "from tensorflow.keras.utils import plot_model\n",
        "\n",
        "plot_model(model_1, show_shapes=True)"
      ],
      "metadata": {
        "colab": {
          "base_uri": "https://localhost:8080/",
          "height": 644
        },
        "id": "Zyxq3N8eNLHf",
        "outputId": "4d8b2d43-c415-4cfe-b4f6-0d89b48e8093"
      },
      "execution_count": 54,
      "outputs": [
        {
          "output_type": "execute_result",
          "data": {
            "image/png": "[encoded data removed]",
            "text/plain": [
              "<IPython.core.display.Image object>"
            ]
          },
          "metadata": {},
          "execution_count": 54
        }
      ]
    }
  ]
}